{
  "nbformat": 4,
  "nbformat_minor": 0,
  "metadata": {
    "colab": {
      "provenance": [],
      "authorship_tag": "ABX9TyM2mP9K0Vg7/NO0l1pgPNSe",
      "include_colab_link": true
    },
    "kernelspec": {
      "name": "python3",
      "display_name": "Python 3"
    },
    "language_info": {
      "name": "python"
    }
  },
  "cells": [
    {
      "cell_type": "markdown",
      "metadata": {
        "id": "view-in-github",
        "colab_type": "text"
      },
      "source": [
        "<a href=\"https://colab.research.google.com/github/megannn258/megan-canaviri/blob/main/sesion2_ubaxxi.ipynb\" target=\"_parent\"><img src=\"https://colab.research.google.com/assets/colab-badge.svg\" alt=\"Open In Colab\"/></a>"
      ]
    },
    {
      "cell_type": "markdown",
      "source": [
        "Tipos de datos\n",
        "int, float, str\n"
      ],
      "metadata": {
        "id": "FoIvQbrb18VW"
      }
    },
    {
      "cell_type": "code",
      "execution_count": 2,
      "metadata": {
        "colab": {
          "base_uri": "https://localhost:8080/"
        },
        "id": "Pl2WdWu4NWs4",
        "outputId": "5a4f194c-4fd1-46e1-c0bb-a4394cfc4d9e"
      },
      "outputs": [
        {
          "output_type": "stream",
          "name": "stdout",
          "text": [
            "3\n",
            "<class 'int'>\n"
          ]
        }
      ],
      "source": [
        "x=3\n",
        "print(x)\n",
        "print(type(x))"
      ]
    },
    {
      "cell_type": "code",
      "source": [
        "x = \"megan\"\n",
        "print(x)\n",
        "type(x)"
      ],
      "metadata": {
        "colab": {
          "base_uri": "https://localhost:8080/"
        },
        "id": "QR2IoTi52yBE",
        "outputId": "3f92749f-b5c2-4cec-e97d-464445ed76db"
      },
      "execution_count": 6,
      "outputs": [
        {
          "output_type": "stream",
          "name": "stdout",
          "text": [
            "megan\n"
          ]
        },
        {
          "output_type": "execute_result",
          "data": {
            "text/plain": [
              "str"
            ]
          },
          "metadata": {},
          "execution_count": 6
        }
      ]
    },
    {
      "cell_type": "code",
      "source": [
        "x =5.666\n",
        "print(type(x))"
      ],
      "metadata": {
        "colab": {
          "base_uri": "https://localhost:8080/"
        },
        "id": "qnq11a6v3Wre",
        "outputId": "055756a3-65c6-4531-c26c-42374d935376"
      },
      "execution_count": 10,
      "outputs": [
        {
          "output_type": "stream",
          "name": "stdout",
          "text": [
            "<class 'float'>\n"
          ]
        }
      ]
    },
    {
      "cell_type": "code",
      "source": [
        "x=3\n",
        "print(x)\n",
        "print(type(x))\n",
        "\n",
        "x = \"megan\"\n",
        "print(x)\n",
        "print(type(x))"
      ],
      "metadata": {
        "colab": {
          "base_uri": "https://localhost:8080/"
        },
        "id": "dAfelwoI3KEO",
        "outputId": "23cfcddb-aafb-40bf-a3b3-dd5ac6ee37d0"
      },
      "execution_count": 9,
      "outputs": [
        {
          "output_type": "stream",
          "name": "stdout",
          "text": [
            "3\n",
            "<class 'int'>\n",
            "megan\n",
            "<class 'str'>\n"
          ]
        }
      ]
    },
    {
      "cell_type": "code",
      "source": [
        "x =10\n",
        "y=8.9\n",
        "z= x + y\n",
        "print(type(z))\n",
        "print(z)\n"
      ],
      "metadata": {
        "colab": {
          "base_uri": "https://localhost:8080/"
        },
        "id": "fmZOFxj53lkK",
        "outputId": "5efe198f-e86d-4693-b99f-1cfb8604e9f6"
      },
      "execution_count": 14,
      "outputs": [
        {
          "output_type": "stream",
          "name": "stdout",
          "text": [
            "<class 'float'>\n",
            "18.9\n"
          ]
        }
      ]
    },
    {
      "cell_type": "code",
      "source": [
        "x =10\n",
        "y=8\n",
        "z= x + y\n",
        "print(type(z))\n",
        "print(z)"
      ],
      "metadata": {
        "colab": {
          "base_uri": "https://localhost:8080/"
        },
        "id": "ZTnfZiuU4CbS",
        "outputId": "d604b1d3-a71b-45f8-fe21-e9dec6c1b10e"
      },
      "execution_count": 15,
      "outputs": [
        {
          "output_type": "stream",
          "name": "stdout",
          "text": [
            "<class 'int'>\n",
            "18\n"
          ]
        }
      ]
    },
    {
      "cell_type": "code",
      "source": [
        "#EN LA DIVISON DE DOS NUMEROS ENTEROS EL RESULTADO VA A SER DE TIPO FLOAT\n",
        "#PORQUE EL PROGRAMA VE MAS PROBLABLE QUE LA DIVISION DECOMO RESULTADO UN DECIMAL\n",
        "x=10\n",
        "y=5\n",
        "divison=x/y\n",
        "print(type(divison))\n",
        "print(divison)\n"
      ],
      "metadata": {
        "colab": {
          "base_uri": "https://localhost:8080/"
        },
        "id": "-acAE-564oja",
        "outputId": "e159bb0b-9ae4-482b-9cec-907ae9e3d5ff"
      },
      "execution_count": 16,
      "outputs": [
        {
          "output_type": "stream",
          "name": "stdout",
          "text": [
            "<class 'float'>\n",
            "2.0\n"
          ]
        }
      ]
    }
  ]
}